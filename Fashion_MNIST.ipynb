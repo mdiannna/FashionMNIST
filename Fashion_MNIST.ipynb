{
  "metadata": {
    "kernelspec": {
      "display_name": "Python 3",
      "language": "python",
      "name": "python3"
    },
    "language_info": {
      "name": "python",
      "version": "3.6.6",
      "mimetype": "text/x-python",
      "codemirror_mode": {
        "name": "ipython",
        "version": 3
      },
      "pygments_lexer": "ipython3",
      "nbconvert_exporter": "python",
      "file_extension": ".py"
    },
    "kaggle": {
      "accelerator": "gpu",
      "dataSources": [
        {
          "sourceId": 3004,
          "databundleVersionId": 861823,
          "sourceType": "competition"
        },
        {
          "sourceId": 9243,
          "sourceType": "datasetVersion",
          "datasetId": 2243
        }
      ],
      "dockerImageVersionId": 23026,
      "isInternetEnabled": false,
      "language": "python",
      "sourceType": "notebook",
      "isGpuEnabled": true
    },
    "colab": {
      "provenance": []
    }
  },
  "nbformat_minor": 0,
  "nbformat": 4,
  "cells": [
    {
      "cell_type": "markdown",
      "source": [
        "# Introduction\n",
        "This is a basic Fashion MNIST classification experiment, based on the code from https://www.kaggle.com/code/dansbecker/deep-learning-from-scratch-daily\n",
        "\n",
        "![Imgur](https://i.imgur.com/GyXOnSB.png)"
      ],
      "metadata": {
        "id": "c6o-CJd_U4_9"
      }
    },
    {
      "cell_type": "markdown",
      "source": [
        "# Data [pre]processing"
      ],
      "metadata": {
        "id": "JFLZmTm8V8m7"
      }
    },
    {
      "cell_type": "code",
      "source": [
        "!unzip fashion-mnist_test.csv.zip"
      ],
      "metadata": {
        "colab": {
          "base_uri": "https://localhost:8080/"
        },
        "id": "_iiTuVxnWA0z",
        "outputId": "f0704d43-4a60-4eb3-b787-b6123185d96e"
      },
      "execution_count": 4,
      "outputs": [
        {
          "output_type": "stream",
          "name": "stdout",
          "text": [
            "Archive:  fashion-mnist_test.csv.zip\n",
            "  inflating: fashion-mnist_test.csv  \n"
          ]
        }
      ]
    },
    {
      "cell_type": "code",
      "source": [
        "!unzip fashion-mnist_train.csv.zip"
      ],
      "metadata": {
        "colab": {
          "base_uri": "https://localhost:8080/"
        },
        "id": "5iQDEt1LWDbz",
        "outputId": "8799e85f-4ded-4062-f0db-000329a52d88"
      },
      "execution_count": 15,
      "outputs": [
        {
          "output_type": "stream",
          "name": "stdout",
          "text": [
            "Archive:  fashion-mnist_train.csv.zip\n",
            "  inflating: fashion-mnist_train.csv  \n"
          ]
        }
      ]
    },
    {
      "cell_type": "code",
      "source": [
        "!unzip train-images-idx3-ubyte.zip"
      ],
      "metadata": {
        "colab": {
          "base_uri": "https://localhost:8080/"
        },
        "id": "EM1KfCtAWV24",
        "outputId": "c2203790-e2f4-422f-b96a-7f2e3ac5ca96"
      },
      "execution_count": 12,
      "outputs": [
        {
          "output_type": "stream",
          "name": "stdout",
          "text": [
            "Archive:  train-images-idx3-ubyte.zip\n",
            "  inflating: train-images-idx3-ubyte  \n"
          ]
        }
      ]
    },
    {
      "cell_type": "code",
      "source": [
        "!unzip t10k-images-idx3-ubyte.zip"
      ],
      "metadata": {
        "colab": {
          "base_uri": "https://localhost:8080/"
        },
        "id": "BCoj1_bJWZUP",
        "outputId": "40cb6ef6-2ffd-4f5c-9f0a-2040df850f4b"
      },
      "execution_count": 13,
      "outputs": [
        {
          "output_type": "stream",
          "name": "stdout",
          "text": [
            "Archive:  t10k-images-idx3-ubyte.zip\n",
            "  inflating: t10k-images-idx3-ubyte  \n"
          ]
        }
      ]
    },
    {
      "cell_type": "markdown",
      "source": [
        "# Data Preparation\n",
        "This code was already supplied"
      ],
      "metadata": {
        "id": "xYvxD1exU5AC"
      }
    },
    {
      "cell_type": "code",
      "source": [
        "import numpy as np\n",
        "from sklearn.model_selection import train_test_split\n",
        "from tensorflow import keras\n",
        "\n",
        "img_rows, img_cols = 28, 28\n",
        "num_classes = 10\n",
        "\n",
        "def prep_data(raw):\n",
        "    y = raw[:, 0]\n",
        "    out_y = keras.utils.to_categorical(y, num_classes)\n",
        "\n",
        "    x = raw[:,1:]\n",
        "    num_images = raw.shape[0]\n",
        "    out_x = x.reshape(num_images, img_rows, img_cols, 1)\n",
        "    out_x = out_x / 255\n",
        "    return out_x, out_y\n",
        "\n",
        "fashion_file = \"fashion-mnist_train.csv\"\n",
        "fashion_data = np.loadtxt(fashion_file, skiprows=1, delimiter=',')\n",
        "x, y = prep_data(fashion_data)\n"
      ],
      "metadata": {
        "execution": {
          "iopub.status.busy": "2024-02-23T18:53:14.469208Z",
          "iopub.execute_input": "2024-02-23T18:53:14.469584Z",
          "iopub.status.idle": "2024-02-23T18:53:59.548931Z",
          "shell.execute_reply.started": "2024-02-23T18:53:14.469514Z",
          "shell.execute_reply": "2024-02-23T18:53:59.548066Z"
        },
        "trusted": true,
        "id": "xmy9W_LoU5AD"
      },
      "execution_count": 16,
      "outputs": []
    },
    {
      "cell_type": "markdown",
      "source": [
        "# 1) Start the model\n",
        "Create a `Sequential` model called `fashion_model`. Don't add layers yet."
      ],
      "metadata": {
        "id": "2PjQRF7LU5AF"
      }
    },
    {
      "cell_type": "code",
      "source": [
        "from tensorflow import keras\n",
        "from tensorflow.keras.models import Sequential\n",
        "from tensorflow.keras.layers import Dense, Flatten, Conv2D, Dropout\n",
        "\n",
        "fashion_model = Sequential()"
      ],
      "metadata": {
        "execution": {
          "iopub.status.busy": "2024-02-23T18:53:59.550510Z",
          "iopub.execute_input": "2024-02-23T18:53:59.550897Z",
          "iopub.status.idle": "2024-02-23T18:53:59.561089Z",
          "shell.execute_reply.started": "2024-02-23T18:53:59.550800Z",
          "shell.execute_reply": "2024-02-23T18:53:59.559691Z"
        },
        "trusted": true,
        "id": "Z9rkVNwYU5AG"
      },
      "execution_count": 32,
      "outputs": []
    },
    {
      "cell_type": "markdown",
      "source": [
        "# 2) Add the first layer\n",
        "\n",
        "Add the first `Conv2D` layer to `fashion_model`. It should have 12 filters, a kernel_size of 3 and the `relu` activation function. The first layer always requires that you specify the `input_shape`.  We have saved the number of rows and columns to the variables `img_rows` and `img_cols` respectively, so the input shape in this case is `(img_rows, img_cols, 1)`."
      ],
      "metadata": {
        "id": "lLlMHpNQU5AH"
      }
    },
    {
      "cell_type": "code",
      "source": [
        "# Your code here\n",
        "\n",
        "fashion_model.add(Conv2D(12, kernel_size=(3, 3),\n",
        "                 activation='relu',\n",
        "                 input_shape=(img_rows, img_cols, 1)))"
      ],
      "metadata": {
        "execution": {
          "iopub.status.busy": "2024-02-23T18:53:59.576669Z",
          "iopub.execute_input": "2024-02-23T18:53:59.576971Z",
          "iopub.status.idle": "2024-02-23T18:53:59.611723Z",
          "shell.execute_reply.started": "2024-02-23T18:53:59.576909Z",
          "shell.execute_reply": "2024-02-23T18:53:59.610968Z"
        },
        "trusted": true,
        "id": "WcmTJAx9U5AH"
      },
      "execution_count": 33,
      "outputs": []
    },
    {
      "cell_type": "markdown",
      "source": [
        "# 3) Add the remaining layers\n",
        "\n",
        "1. Add 2 more convolutional (`Conv2D layers`) with 20 filters each, 'relu' activation, and a kernel size of 3. Follow that with a `Flatten` layer, and then a `Dense` layer with 100 neurons.\n",
        "2. Add your prediction layer to `fashion_model`.  This is a `Dense` layer.  We alrady have a variable called `num_classes`.  Use this variable when specifying the number of nodes in this layer. The activation should be `softmax` (or you will have problems later)."
      ],
      "metadata": {
        "id": "mP3G4CD9U5AI"
      }
    },
    {
      "cell_type": "code",
      "source": [
        "# Your code here\n",
        "\n",
        "fashion_model.add(Conv2D(20, kernel_size=(3, 3), activation='relu'))\n",
        "fashion_model.add(Conv2D(20, kernel_size=(3, 3), activation='relu'))\n",
        "fashion_model.add(Conv2D(20, kernel_size=3, activation='relu'))\n",
        "fashion_model.add(Conv2D(20, kernel_size=3, activation='relu'))\n",
        "fashion_model.add(Dropout(0.2))\n",
        "fashion_model.add(Conv2D(20, kernel_size=3, activation='relu'))\n",
        "fashion_model.add(Conv2D(20, kernel_size=3, activation='relu'))\n",
        "fashion_model.add(Dropout(0.4))\n",
        "fashion_model.add(Flatten())\n",
        "\n",
        "fashion_model.add(Dense(100, activation='relu'))\n",
        "fashion_model.add(Dense(num_classes, activation='softmax'))\n"
      ],
      "metadata": {
        "execution": {
          "iopub.status.busy": "2024-02-23T18:53:59.618076Z",
          "iopub.execute_input": "2024-02-23T18:53:59.618343Z",
          "iopub.status.idle": "2024-02-23T18:53:59.723834Z",
          "shell.execute_reply.started": "2024-02-23T18:53:59.618289Z",
          "shell.execute_reply": "2024-02-23T18:53:59.723037Z"
        },
        "trusted": true,
        "id": "Y-lsTwkCU5AI"
      },
      "execution_count": 34,
      "outputs": []
    },
    {
      "cell_type": "markdown",
      "source": [
        "# 4) Compile Your Model\n",
        "Compile fashion_model with the `compile` method.  Specify the following arguments:\n",
        "1. `loss = \"categorical_crossentropy\"`\n",
        "2. `optimizer = 'adam'`\n",
        "3. `metrics = ['accuracy']`"
      ],
      "metadata": {
        "id": "drDohYNmU5AJ"
      }
    },
    {
      "cell_type": "code",
      "source": [
        "# Your code to compile the model in this cell\n",
        "\n",
        "fashion_model.compile(loss='categorical_crossentropy',\n",
        "                      optimizer='adam',\n",
        "                      metrics=['accuracy'])"
      ],
      "metadata": {
        "execution": {
          "iopub.status.busy": "2024-02-23T18:54:46.233414Z",
          "iopub.execute_input": "2024-02-23T18:54:46.233836Z",
          "iopub.status.idle": "2024-02-23T18:54:46.363120Z",
          "shell.execute_reply.started": "2024-02-23T18:54:46.233770Z",
          "shell.execute_reply": "2024-02-23T18:54:46.362298Z"
        },
        "trusted": true,
        "id": "tu8mxlINU5AJ"
      },
      "execution_count": 38,
      "outputs": []
    },
    {
      "cell_type": "markdown",
      "source": [
        "# 5) Plot the model"
      ],
      "metadata": {
        "id": "YrgOBe8tXbF4"
      }
    },
    {
      "cell_type": "code",
      "source": [
        "from keras.utils import plot_model\n",
        "\n",
        "plot_model(fashion_model)"
      ],
      "metadata": {
        "colab": {
          "base_uri": "https://localhost:8080/",
          "height": 1000
        },
        "id": "602-CTMkXR0w",
        "outputId": "aef07593-c259-4a4e-dc5b-ca626a73e404"
      },
      "execution_count": 37,
      "outputs": [
        {
          "output_type": "execute_result",
          "data": {
            "image/png": "[encoded data removed]",
            "text/plain": [
              "<IPython.core.display.Image object>"
            ]
          },
          "metadata": {},
          "execution_count": 37
        }
      ]
    },
    {
      "cell_type": "markdown",
      "source": [
        "# 6) Fit The Model\n",
        "Run the command `fashion_model.fit`. The arguments you will use are\n",
        "1. The data used to fit the model. First comes the data holding the images, and second is the data with the class labels to be predicted. Look at the first code cell (which was supplied to you) where we called `prep_data` to find the variable names for these.\n",
        "2. `batch_size = 100`\n",
        "3. `epochs = 4`\n",
        "4. `validation_split = 0.2`\n",
        "\n",
        "When you run this command, you can watch your model start improving.  You will see validation accuracies after each epoch."
      ],
      "metadata": {
        "id": "5ZOKUzjQU5AJ"
      }
    },
    {
      "cell_type": "code",
      "source": [
        "# Your code to fit the model here\n",
        "history = fashion_model.fit(x, y,\n",
        "          batch_size=128,\n",
        "          epochs=2,\n",
        "          validation_split = 0.2)"
      ],
      "metadata": {
        "execution": {
          "iopub.status.busy": "2024-02-23T18:54:57.134018Z",
          "iopub.execute_input": "2024-02-23T18:54:57.134328Z",
          "iopub.status.idle": "2024-02-23T18:55:08.053802Z",
          "shell.execute_reply.started": "2024-02-23T18:54:57.134281Z",
          "shell.execute_reply": "2024-02-23T18:55:08.052921Z"
        },
        "trusted": true,
        "colab": {
          "base_uri": "https://localhost:8080/"
        },
        "id": "SOYPVOdHU5AJ",
        "outputId": "0bf9da57-1609-4911-dc56-bc70a9016c89"
      },
      "execution_count": 40,
      "outputs": [
        {
          "output_type": "stream",
          "name": "stdout",
          "text": [
            "Epoch 1/2\n",
            "375/375 [==============================] - 160s 427ms/step - loss: 0.3555 - accuracy: 0.8692 - val_loss: 0.3273 - val_accuracy: 0.8804\n",
            "Epoch 2/2\n",
            "375/375 [==============================] - 161s 429ms/step - loss: 0.3091 - accuracy: 0.8864 - val_loss: 0.2859 - val_accuracy: 0.8988\n"
          ]
        }
      ]
    },
    {
      "cell_type": "markdown",
      "source": [
        "# 6) Evaluate the performance"
      ],
      "metadata": {
        "id": "jPIHd91sVZhN"
      }
    },
    {
      "cell_type": "code",
      "source": [
        "# Evaluate the model on a separate dataset\n",
        "evaluation = fashion_model.evaluate(x, y)\n",
        "\n",
        "# Print the evaluation results\n",
        "print(\"Loss:\", evaluation[0])\n",
        "print(\"Accuracy:\", evaluation[1])"
      ],
      "metadata": {
        "colab": {
          "base_uri": "https://localhost:8080/"
        },
        "id": "HetyWbU5VY0T",
        "outputId": "c6eaa1f4-1a3c-4d79-c98c-810a21dd2fc4"
      },
      "execution_count": 41,
      "outputs": [
        {
          "output_type": "stream",
          "name": "stdout",
          "text": [
            "1875/1875 [==============================] - 62s 33ms/step - loss: 0.2603 - accuracy: 0.9048\n",
            "Loss: 0.2602522075176239\n",
            "Accuracy: 0.9047999978065491\n"
          ]
        }
      ]
    },
    {
      "cell_type": "code",
      "source": [
        "# Plot training & validation accuracy values\n",
        "import matplotlib.pyplot as plt\n",
        "\n",
        "plt.plot(history.history['accuracy'])\n",
        "plt.plot(history.history['val_accuracy'])\n",
        "plt.title('Model accuracy')\n",
        "plt.ylabel('Accuracy')\n",
        "plt.xlabel('Epoch')\n",
        "plt.legend(['Train', 'Validation'], loc='upper left')\n",
        "plt.show()"
      ],
      "metadata": {
        "colab": {
          "base_uri": "https://localhost:8080/",
          "height": 472
        },
        "id": "XkWpKNc2Z26M",
        "outputId": "6f8ab9b6-f16d-4cfc-cb2d-98272a95deda"
      },
      "execution_count": 43,
      "outputs": [
        {
          "output_type": "display_data",
          "data": {
            "text/plain": [
              "<Figure size 640x480 with 1 Axes>"
            ],
            "image/png": "[encoded data removed]"
          },
          "metadata": {}
        }
      ]
    }
  ]
}